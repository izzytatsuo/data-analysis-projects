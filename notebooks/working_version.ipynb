{
 "cells": [
  {
   "cell_type": "code",
   "execution_count": null,
   "id": "c5a936c1",
   "metadata": {},
   "outputs": [],
   "source": [
    "Filter all tables to the three most recent days\n",
    ", pull only from slam_leg for now\n",
    ", first filter for the final leg, but also for the\n",
    "\n",
    "create a table for mapping\n",
    "\n",
    "create a table from"
   ]
  },
  {
   "cell_type": "code",
   "execution_count": null,
   "id": "03cef709",
   "metadata": {},
   "outputs": [],
   "source": [
    "-- Step 1: Create a temp table for node mapping (locations)\n",
    "DROP TABLE IF EXISTS amzl_mapping;\n",
    "CREATE TEMP TABLE amzl_mapping AS (\n",
    "    SELECT\n",
    "        location_id AS node,\n",
    "        timezone,\n",
    "        region,\n",
    "        country,\n",
    "        GETDATE() AS run_time_utc,\n",
    "        CAST(CAST(GETDATE() AS DATE) AS TIMESTAMP) AS day_start_utc,\n",
    "        CONVERT_TIMEZONE('UTC', timezone, GETDATE()) AS run_time_local,\n",
    "        CONVERT_TIMEZONE('UTC', timezone, CAST(CAST(GETDATE() AS DATE) AS TIMESTAMP)) AS local_offset_utc\n",
    "    FROM\n",
    "        \"amzlanalytics\".\"perfectmile\".\"d_perfectmile_node_mapping_mdm\"\n",
    "    WHERE\n",
    "        1=1\n",
    "        AND location_status = 'A'\n",
    "        AND country IN('US', 'CA')\n",
    "        -- Uncomment to filter by specific regions if needed\n",
    "        -- AND UPPER(region) IN('ROCKIES', 'UPSTATE NY') \n",
    "        AND (location_type = 'DS' \n",
    "            OR location_id IN ('MCO5', 'ZYG1', 'ZYN9', 'XVV2', 'XVV3', 'XYT6', 'XLC1', 'XVC1', 'XNK2')\n",
    "        )\n",
    ");"
   ]
  },
  {
   "cell_type": "code",
   "execution_count": null,
   "id": "adac4a0d",
   "metadata": {},
   "outputs": [],
   "source": [
    "get unique shipments from slam leg, get the final leg and the second to last leg"
   ]
  },
  {
   "cell_type": "code",
   "execution_count": null,
   "id": "a64c0888",
   "metadata": {},
   "outputs": [],
   "source": [
    "\n",
    "-- Step 2: Create a temp table for slam legs\n",
    "\n",
    "DROP TABLE IF EXISTS slam_leg;\n",
    "CREATE TEMP TABLE slam_leg SORTKEY() AS (\n",
    "    SELECT a.*, \n",
    "           m.timezone,\n",
    "           m.region,\n",
    "           m.country,\n",
    "           m.run_time_utc,\n",
    "           m.day_start_utc,\n",
    "           m.run_time_local,\n",
    "           m.local_offset_utc\n",
    "    FROM (\n",
    "        SELECT\n",
    "            shipment_id,\n",
    "            package_id,\n",
    "            route_id,\n",
    "            route_warehouse_id,\n",
    "            route_ship_method,\n",
    "            route_internal_sort_code,\n",
    "            route_external_sort_code,\n",
    "            processing_date,\n",
    "            leg_sequence_id,\n",
    "            leg_id,\n",
    "            leg_warehouse_id,\n",
    "            leg_ship_method,\n",
    "            leg_internal_sort_code,\n",
    "            leg_external_sort_code,\n",
    "            leg_destination_warehouse_id,\n",
    "            ship_option,\n",
    "            pickup_date,\n",
    "            estimated_arrival_date,\n",
    "            transit_time_in_hours,\n",
    "            \"zone\",\n",
    "            request_timestamp,\n",
    "            dw_creation_date,\n",
    "            unloaded_at,\n",
    "            ROW_NUMBER() OVER (PARTITION BY shipment_id ORDER BY request_timestamp DESC, pickup_date DESC) AS leg_rn\n",
    "        FROM backlog_datasets.ATROPS.o_slam_packages_leg_live\n",
    "        WHERE request_timestamp > GETDATE() - INTERVAL '3 DAYS'\n",
    "    ) a\n",
    "    JOIN amzl_mapping m ON m.node = a.leg_warehouse_id\n",
    "    WHERE a.leg_rn = 1\n",
    ");"
   ]
  },
  {
   "cell_type": "code",
   "id": "tq6bzjtgvl",
   "source": "-- Step 3: Create a consolidated table that joins slam_leg, gmp, and pse tables\n\nDROP TABLE IF EXISTS consolidated;\nCREATE TEMP TABLE consolidated SORTKEY(shipment_key) DISTKEY(shipment_key) AS (\n    SELECT\n        -- Coalesced key fields\n        COALESCE(sl.shipment_key, g.shipment_key) AS shipment_key,\n        COALESCE(sl.source_table, g.source_table, p.source_table) AS source_table,\n        COALESCE(sl.request_timestamp, g.status_date, p.state_time) AS event_timestamp,\n        COALESCE(sl.leg_rn, g.duplicate_rn, p.duplicate_rn) AS duplicate_rn,\n        \n        -- slam_leg fields\n        sl.shipment_id,\n        sl.package_id,\n        sl.route_id,\n        sl.route_warehouse_id,\n        sl.route_ship_method,\n        sl.route_internal_sort_code,\n        sl.route_external_sort_code,\n        sl.processing_date,\n        sl.leg_sequence_id,\n        sl.leg_id,\n        sl.leg_warehouse_id,\n        sl.leg_ship_method,\n        sl.leg_internal_sort_code,\n        sl.leg_external_sort_code,\n        sl.leg_destination_warehouse_id,\n        sl.ship_option AS sl_ship_option,\n        sl.pickup_date,\n        sl.estimated_arrival_date,\n        sl.transit_time_in_hours,\n        sl.zone,\n        sl.request_timestamp,\n        sl.dw_creation_date,\n        sl.unloaded_at AS sl_unloaded_at,\n        sl.timezone,\n        sl.region,\n        sl.country,\n        sl.run_time_utc,\n        sl.day_start_utc,\n        sl.run_time_local,\n        sl.local_offset_utc,\n        \n        -- gmp fields\n        g.shipment_type,\n        g.sender_id,\n        g.tracking_id,\n        g.ship_track_event_code,\n        g.standard_carrier_alpha_code,\n        g.supplement_code,\n        g.tcda_container_id,\n        g.parent_container_id,\n        g.parent_container_type,\n        g.status_node_id,\n        g.load_id,\n        g.status_date,\n        g.status_date_timezone,\n        g.edi_standard_name,\n        g.status_code,\n        g.reason_code,\n        g.fulfillment_reference_id,\n        g.marketplace_id,\n        g.amazon_bar_code,\n        g.fulfillment_shipment_id,\n        g.package_id AS gmp_package_id,\n        g.estimated_arrival_date AS gmp_estimated_arrival_date,\n        g.promised_arrival_date,\n        g.tss_ship_date,\n        g.business_unit,\n        g.ship_option AS gmp_ship_option,\n        g.ship_method AS gmp_ship_method,\n        g.actual_delivery_date,\n        g.attempted_delivery_date,\n        g.is_export_charge_prepaid,\n        g.is_virtual_scan,\n        g.access_point_id,\n        g.seller_id,\n        g.transport_shipment_id,\n        g.amazon_reference_number,\n        g.additional_reference_number,\n        g.status_ref_target_type,\n        g.predicted_delivery_date,\n        g.estimated_delivery_date,\n        g.origin_address_country_code,\n        g.manifest_id,\n        g.service_type,\n        g.dw_created_time AS gmp_dw_created_time,\n        g.unloaded_at AS gmp_unloaded_at,\n        g.shipment_tracking_key,\n        g.status_date_rn,\n        \n        -- pse fields\n        p.type,\n        p.package_id AS pse_package_id,\n        p.package_id_type,\n        p.forward_amazon_barcode,\n        p.forward_tracking_id,\n        p.forward_tcda_container_id,\n        p.state_location_type,\n        p.state_location_id,\n        p.state_location_destination_id,\n        p.state_location_source_id,\n        p.state_status,\n        p.state_time,\n        p.triggerer_id,\n        p.triggerer_id_type,\n        p.dw_created_time AS pse_dw_created_time,\n        p.state_sub_status,\n        p.comp_type,\n        p.comp_reason,\n        p.comp_state,\n        p.reverse_amazon_barcode,\n        p.reverse_tcda_container_id,\n        p.reverse_tracking_id,\n        p.execution_id,\n        p.execution_id_type,\n        p.state_location_destination_type,\n        p.state_location_source_type,\n        p.state_time_rn,\n        p.forward_tcda_rn,\n        p.unloaded_at AS pse_unloaded_at,\n        \n        -- nc_load_summary fields\n        v.origin,\n        v.final_destination,\n        v.origin_type,\n        v.destination_type,\n        v.lane,\n        v.cpt,\n        v.miles,\n        v.origin_local_timezone,\n        v.origin_scheduled_arrival,\n        v.origin_calc_arrival,\n        v.origin_arrival_late_group,\n        v.origin_arrival_late_hrs,\n        v.origin_arrival_reason,\n        v.origin_scheduled_depart,\n        v.origin_calc_depart,\n        v.origin_departure_late_group,\n        v.origin_depart_late_hrs,\n        v.dest_local_timezone,\n        v.dest_scheduled_arrival,\n        v.dest_calc_arrival,\n        v.dest_arrival_late_group,\n        v.dest_arrival_late_hrs,\n        v.dest_arrival_reason,\n        \n        -- node_type mappings\n        origin_nt.location_type AS origin_location_type,\n        status_nt.location_type AS status_node_location_type,\n        dest_nt.location_type AS destination_location_type\n    FROM \n        slam_leg sl\n    FULL OUTER JOIN \n        gmp g ON sl.shipment_key = g.shipment_key\n    FULL OUTER JOIN \n        pse p ON COALESCE(g.tracking_id, '') = COALESCE(p.forward_tracking_id, '')\n    -- Join with nc_load_summary_snapshot using parent_container_id (vrid)\n    LEFT JOIN \n        nc_load_summary_snapshot v ON g.parent_container_id = v.vrid\n    -- Join with node_type for location type mappings\n    LEFT JOIN \n        node_type origin_nt ON v.origin = origin_nt.location_id\n    LEFT JOIN \n        node_type status_nt ON g.status_node_id = status_nt.location_id\n    LEFT JOIN \n        node_type dest_nt ON v.final_destination = dest_nt.location_id\n);",
   "metadata": {},
   "outputs": []
  },
  {
   "cell_type": "markdown",
   "id": "zu1ylo6jfe",
   "source": "## Consolidated Data Model\n\nThe consolidated table brings together data from three primary sources, along with additional reference data:\n\n1. **slam_leg** - Shipment legs from SLAM (Sort, Label, and Manifest) system\n2. **gmp** - GMP (Global Marketplace Platform) shipment tracking events\n3. **pse** - Package Systems Events \n4. **nc_load_summary_snapshot** - Vehicle routing data\n5. **node_type** - Location type reference data\n\n### Key Design Elements:\n\n- **Full Outer Join**: Preserves all records from all three main tables, even when there's no match\n- **Coalesced Key Fields**: \n  - `shipment_key`: Common identifier across tables\n  - `source_table`: Identifies which system the record came from ('slam_leg', 'GMP', or 'PSE')\n  - `event_timestamp`: Normalized timestamp from different source fields\n  - `duplicate_rn`: Row number for handling duplicates\n  \n- **Location Type Mapping**:\n  - Join with `node_type` for each location type (origin, status_node, destination)\n  - Enhances data with location type information for richer analysis\n  \n- **Vehicle Routing Integration**:\n  - Left join with `nc_load_summary_snapshot` on `gmp.parent_container_id = nc_load_summary_snapshot.vrid`\n  - Provides vehicle routing details, including origin/destination info and timing\n\n### Optimization:\n\n- **SORTKEY(shipment_key)**: Improves query performance for filtering and joining on shipment_key\n- **DISTKEY(shipment_key)**: Distributes data efficiently across Redshift nodes\n\n### Common Use Cases:\n\n1. Tracking a shipment's complete journey across multiple systems\n2. Analyzing delivery performance metrics\n3. Identifying where packages may be getting delayed or lost\n4. Creating comprehensive timelines of shipment events\n5. Analyzing location-specific performance based on location type\n6. Correlating shipment events with vehicle routing data\n\nThe example queries below demonstrate how to extract useful insights from this consolidated view.",
   "metadata": {},
   "outputs": []
  },
  {
   "cell_type": "code",
   "id": "l3jnyfmijcj",
   "source": "-- Step 4: Example query to show how to use the consolidated table\n\n-- Sample query 1: Get event timeline for a specific shipment\nSELECT\n    shipment_key,\n    source_table,\n    event_timestamp,\n    CASE \n        WHEN source_table = 'slam_leg' THEN 'SLAM_LEG'\n        WHEN source_table = 'GMP' AND ship_track_event_code = 'EVENT_301' THEN 'DELIVERY'\n        WHEN source_table = 'GMP' AND ship_track_event_code = 'EVENT_302' THEN 'DISPATCH'\n        WHEN source_table = 'GMP' AND ship_track_event_code = 'EVENT_304' THEN 'DELIVERY_ATTEMPT'\n        WHEN source_table = 'GMP' THEN ship_track_event_code\n        WHEN source_table = 'PSE' THEN state_status\n        ELSE 'UNKNOWN'\n    END AS event_type,\n    leg_warehouse_id,\n    status_node_id,\n    state_location_id,\n    timezone,\n    region,\n    country\nFROM\n    consolidated\nORDER BY\n    shipment_key,\n    event_timestamp\nLIMIT 100;\n\n-- Sample query 2: Get event counts by source\nSELECT\n    source_table,\n    COUNT(*) AS event_count\nFROM\n    consolidated\nGROUP BY\n    source_table;\n\n-- Sample query 3: Find shipments with events from all three sources\nSELECT\n    c.shipment_key,\n    MAX(CASE WHEN c.source_table = 'slam_leg' THEN 1 ELSE 0 END) AS has_slam_leg,\n    MAX(CASE WHEN c.source_table = 'GMP' THEN 1 ELSE 0 END) AS has_gmp,\n    MAX(CASE WHEN c.source_table = 'PSE' THEN 1 ELSE 0 END) AS has_pse,\n    COUNT(DISTINCT c.source_table) AS source_count\nFROM\n    consolidated c\nGROUP BY\n    c.shipment_key\nHAVING\n    COUNT(DISTINCT c.source_table) = 3\nLIMIT 10;",
   "metadata": {},
   "outputs": []
  },
  {
   "cell_type": "code",
   "id": "r2gu6k5937",
   "source": "-- Sample query 4: Analyze shipments by location type\nSELECT\n    origin_location_type,\n    status_node_location_type,\n    destination_location_type,\n    COUNT(*) AS event_count,\n    COUNT(DISTINCT shipment_key) AS shipment_count\nFROM\n    consolidated\nWHERE\n    origin_location_type IS NOT NULL\n    OR status_node_location_type IS NOT NULL\n    OR destination_location_type IS NOT NULL\nGROUP BY\n    origin_location_type,\n    status_node_location_type,\n    destination_location_type\nORDER BY\n    shipment_count DESC;\n\n-- Sample query 5: Find shipment journey with vehicle routing information\nSELECT\n    c.shipment_key,\n    c.event_timestamp,\n    c.source_table,\n    CASE \n        WHEN c.source_table = 'slam_leg' THEN 'SLAM_LEG'\n        WHEN c.source_table = 'GMP' AND c.ship_track_event_code = 'EVENT_301' THEN 'DELIVERY'\n        WHEN c.source_table = 'GMP' AND c.ship_track_event_code = 'EVENT_302' THEN 'DISPATCH'\n        WHEN c.source_table = 'GMP' AND c.ship_track_event_code = 'EVENT_304' THEN 'DELIVERY_ATTEMPT'\n        WHEN c.source_table = 'GMP' THEN c.ship_track_event_code\n        WHEN c.source_table = 'PSE' THEN c.state_status\n        ELSE 'UNKNOWN'\n    END AS event_type,\n    c.origin,\n    c.origin_location_type,\n    c.final_destination,\n    c.destination_location_type,\n    c.lane,\n    c.miles,\n    c.origin_scheduled_depart,\n    c.origin_calc_depart,\n    c.origin_depart_late_hrs,\n    c.dest_scheduled_arrival,\n    c.dest_calc_arrival,\n    c.dest_arrival_late_hrs\nFROM\n    consolidated c\nWHERE\n    c.parent_container_id IS NOT NULL\nORDER BY\n    c.shipment_key,\n    c.event_timestamp\nLIMIT 100;",
   "metadata": {},
   "outputs": []
  }
 ],
 "metadata": {
  "language_info": {
   "name": "python"
  }
 },
 "nbformat": 4,
 "nbformat_minor": 5
}