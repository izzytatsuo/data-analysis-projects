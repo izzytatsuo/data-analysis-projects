{
 "cells": [
  {
   "cell_type": "markdown",
   "metadata": {},
   "source": [
    "# Analysis of v_load_summary_hourly Table\n",
    "\n",
    "This notebook analyzes the schema and contents of the v_load_summary_hourly table from AWS Glue Catalog."
   ]
  },
  {
   "cell_type": "code",
   "execution_count": null,
   "metadata": {},
   "source": [
    "# Import required libraries\n",
    "import pandas as pd\n",
    "import pyarrow as pa\n",
    "import matplotlib.pyplot as plt\n",
    "import seaborn as sns"
   ]
  },
  {
   "cell_type": "code",
   "execution_count": null,
   "metadata": {},
   "source": [
    "# Load the parquet file\n",
    "file_path = '/local/home/admsia/parquet_analysis/load_summary.parquet'\n",
    "df = pd.read_parquet(file_path)\n",
    "print(f\"Dataset shape: {df.shape}\")"
   ]
  },
  {
   "cell_type": "markdown",
   "metadata": {},
   "source": [
    "## Schema Overview\n",
    "\n",
    "The table contains 116 columns with various data about vehicle routes, schedules, and logistics metrics."
   ]
  },
  {
   "cell_type": "code",
   "execution_count": null,
   "metadata": {},
   "source": [
    "# Display table columns\n",
    "print(\"Column Names:\")\n",
    "columns = df.columns.tolist()\n",
    "for i, col in enumerate(columns):\n",
    "    print(f\"{i+1}. {col}\")"
   ]
  },
  {
   "cell_type": "code",
   "execution_count": null,
   "metadata": {},
   "source": [
    "# Show data types\n",
    "df.dtypes"
   ]
  },
  {
   "cell_type": "markdown",
   "metadata": {},
   "source": [
    "## Data Sample\n",
    "\n",
    "Here's a sample of the data to understand its structure:"
   ]
  },
  {
   "cell_type": "code",
   "execution_count": null,
   "metadata": {},
   "source": [
    "# Display a sample of the data\n",
    "df.head(5)"
   ]
  },
  {
   "cell_type": "markdown",
   "metadata": {},
   "source": [
    "## Key Field Analysis\n",
    "\n",
    "Let's examine the distribution of key fields in the dataset."
   ]
  },
  {
   "cell_type": "code",
   "execution_count": null,
   "metadata": {},
   "source": [
    "# Program code distribution\n",
    "print(\"Program code distribution:\")\n",
    "print(df['program_code'].value_counts().head(10))\n",
    "\n",
    "# Shipment mode distribution\n",
    "print(\"\\nShipment mode distribution:\")\n",
    "print(df['shipment_mode'].value_counts())\n",
    "\n",
    "# Equipment type distribution\n",
    "print(\"\\nEquipment type distribution:\")\n",
    "print(df['equipment_type'].value_counts().head(10))\n",
    "\n",
    "# Vehicle execution status\n",
    "print(\"\\nVehicle execution status distribution:\")\n",
    "print(df['vehicle_execution_status'].value_counts())"
   ]
  },
  {
   "cell_type": "markdown",
   "metadata": {},
   "source": [
    "## Transit Time Analysis\n",
    "\n",
    "Analysis of scheduled vs. actual transit times."
   ]
  },
  {
   "cell_type": "code",
   "execution_count": null,
   "metadata": {},
   "source": [
    "# Transit time statistics\n",
    "print(\"Transit time statistics:\")\n",
    "df[['transit_hours_actual', 'scheduled_transit_hours']].describe()\n",
    "\n",
    "# Late arrival analysis\n",
    "print(\"\\nLate arrival statistics:\")\n",
    "print(f\"Origin arrival late hours - average: {df['origin_arrival_late_hrs'].mean()}\")\n",
    "print(f\"Origin arrival late hours - median: {df['origin_arrival_late_hrs'].median()}\")\n",
    "print(f\"Destination arrival late hours - average: {df['dest_arrival_late_hrs'].mean()}\")\n",
    "print(f\"Destination arrival late hours - median: {df['dest_arrival_late_hrs'].median()}\")"
   ]
  },
  {
   "cell_type": "markdown",
   "metadata": {},
   "source": [
    "## Route Analysis\n",
    "\n",
    "Examining characteristics of the routes."
   ]
  },
  {
   "cell_type": "code",
   "execution_count": null,
   "metadata": {},
   "source": [
    "# Miles distribution\n",
    "plt.figure(figsize=(12, 6))\n",
    "sns.histplot(df['miles'], bins=50)\n",
    "plt.title('Distribution of Route Miles')\n",
    "plt.xlabel('Miles')\n",
    "plt.ylabel('Count')\n",
    "plt.show()\n",
    "\n",
    "# Stop count distribution\n",
    "print(\"Stop count distribution:\")\n",
    "print(df['stop_count'].value_counts().head(10))"
   ]
  },
  {
   "cell_type": "markdown",
   "metadata": {},
   "source": [
    "## Data Completeness\n",
    "\n",
    "Checking for missing values in key columns."
   ]
  },
  {
   "cell_type": "code",
   "execution_count": null,
   "metadata": {},
   "source": [
    "# Calculate missing values percentage\n",
    "missing_data = df.isnull().sum()\n",
    "missing_percent = (missing_data / len(df)) * 100\n",
    "\n",
    "# Create a dataframe with the results\n",
    "missing_info = pd.DataFrame({\n",
    "    'Missing Values': missing_data,\n",
    "    'Missing Percent': missing_percent\n",
    "})\n",
    "\n",
    "# Sort by missing percent\n",
    "missing_info = missing_info[missing_info['Missing Values'] > 0].sort_values('Missing Percent', ascending=False)\n",
    "missing_info.head(20)"
   ]
  }
 ],
 "metadata": {
  "kernelspec": {
   "display_name": "Python 3",
   "language": "python",
   "name": "python3"
  },
  "language_info": {
   "codemirror_mode": {
    "name": "ipython",
    "version": 3
   },
   "file_extension": ".py",
   "mimetype": "text/x-python",
   "name": "python",
   "nbconvert_exporter": "python",
   "pygments_lexer": "ipython3",
   "version": "3.8.8"
  }
 },
 "nbformat": 4,
 "nbformat_minor": 4
}