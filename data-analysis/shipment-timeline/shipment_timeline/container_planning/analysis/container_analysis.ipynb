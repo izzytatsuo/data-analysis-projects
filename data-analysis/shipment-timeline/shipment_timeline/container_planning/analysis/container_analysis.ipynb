{
 "cells": [
  {
   "cell_type": "markdown",
   "metadata": {},
   "source": [
    "# Container Planning Data Analysis\n",
    "\n",
    "This notebook analyzes parquet data files from the container planning dataset to understand:\n",
    "1. Planning vs execution effectiveness\n",
    "2. Differences between stations\n",
    "3. Patterns in container planning metrics\n",
    "4. Integration with shipment timeline data"
   ]
  },
  {
   "cell_type": "markdown",
   "metadata": {},
   "source": [
    "## Import Libraries"
   ]
  },
  {
   "cell_type": "code",
   "execution_count": null,
   "metadata": {},
   "source": [
    "import pandas as pd\n",
    "import pyarrow.parquet as pq\n",
    "import numpy as np\n",
    "import matplotlib.pyplot as plt\n",
    "import seaborn as sns\n",
    "import os\n",
    "import boto3\n",
    "import awswrangler as wr\n",
    "from datetime import datetime, timedelta\n",
    "\n",
    "# Set plot styling\n",
    "plt.style.use('ggplot')\n",
    "sns.set(style=\"whitegrid\")\n",
    "\n",
    "# Configure plot size\n",
    "plt.rcParams['figure.figsize'] = [12, 8]\n",
    "\n",
    "# Configure pandas display options\n",
    "pd.set_option('display.max_columns', None)\n",
    "pd.set_option('display.max_rows', 20)\n",
    "pd.set_option('display.width', 1000)\n",
    "\n",
    "print(\"Libraries loaded successfully\")"
   ]
  },
  {
   "cell_type": "markdown",
   "metadata": {},
   "source": [
    "## Data Loading Functions"
   ]
  },
  {
   "cell_type": "code",
   "execution_count": null,
   "metadata": {},
   "source": [
    "def download_parquet_sample(date, station_code, sample_file=\"0000_part_00.parquet\", output_dir=\"/tmp/parquet\"):\n",
    "    \"\"\"\n",
    "    Download a sample parquet file for a given date and station code.\n",
    "    \n",
    "    Args:\n",
    "        date (str): Date in format 'YYYY-MM-DD 00:00:00'\n",
    "        station_code (str): Station code (e.g., 'DAU1')\n",
    "        sample_file (str): Parquet file to download (default: '0000_part_00.parquet')\n",
    "        output_dir (str): Directory to save the downloaded file\n",
    "    \n",
    "    Returns:\n",
    "        str: Path to downloaded file\n",
    "    \"\"\"\n",
    "    # Create output directory if it doesn't exist\n",
    "    os.makedirs(output_dir, exist_ok=True)\n",
    "    \n",
    "    # Construct S3 path\n",
    "    s3_base = \"s3://altdatasetexfil/claudecloud/routing2_container_snip\"\n",
    "    s3_path = f\"{s3_base}/date={date}/station_code={station_code}/{sample_file}\"\n",
    "    \n",
    "    # Construct output path\n",
    "    output_file = f\"{output_dir}/{station_code}_{date.split()[0]}_{sample_file}\"\n",
    "    \n",
    "    # Download file using AWS CLI\n",
    "    !aws s3 cp \"{s3_path}\" \"{output_file}\"\n",
    "    \n",
    "    return output_file"
   ]
  },
  {
   "cell_type": "code",
   "execution_count": null,
   "metadata": {},
   "source": [
    "def load_parquet_file(file_path):\n",
    "    \"\"\"\n",
    "    Load a parquet file into a pandas DataFrame.\n",
    "    \n",
    "    Args:\n",
    "        file_path (str): Path to parquet file\n",
    "    \n",
    "    Returns:\n",
    "        pandas.DataFrame: DataFrame containing parquet data\n",
    "    \"\"\"\n",
    "    try:\n",
    "        print(f\"Loading parquet file: {file_path}\")\n",
    "        parquet_file = pq.read_table(file_path)\n",
    "        df = parquet_file.to_pandas()\n",
    "        \n",
    "        print(f\"Loaded {len(df)} rows with {len(df.columns)} columns\")\n",
    "        return df\n",
    "    except Exception as e:\n",
    "        print(f\"Error loading parquet file: {e}\")\n",
    "        return None"
   ]
  },
  {
   "cell_type": "markdown",
   "metadata": {},
   "source": [
    "## Load Sample Data"
   ]
  },
  {
   "cell_type": "code",
   "execution_count": null,
   "metadata": {},
   "source": [
    "# Download sample data for DAU1 on June 3\n",
    "dau1_file = download_parquet_sample(\n",
    "    date=\"2025-06-03 00:00:00\",\n",
    "    station_code=\"DAU1\"\n",
    ")\n",
    "\n",
    "# Download sample data for DJT6 on June 2\n",
    "djt6_file = download_parquet_sample(\n",
    "    date=\"2025-06-02 00:00:00\",\n",
    "    station_code=\"DJT6\"\n",
    ")"
   ]
  },
  {
   "cell_type": "code",
   "execution_count": null,
   "metadata": {},
   "source": [
    "# Load both datasets\n",
    "dau1_df = load_parquet_file(dau1_file)\n",
    "djt6_df = load_parquet_file(djt6_file)\n",
    "\n",
    "# Add station and date identifiers\n",
    "dau1_df['station'] = 'DAU1'\n",
    "dau1_df['date'] = '2025-06-03'\n",
    "djt6_df['station'] = 'DJT6'\n",
    "djt6_df['date'] = '2025-06-02'"
   ]
  },
  {
   "cell_type": "markdown",
   "metadata": {},
   "source": [
    "## Data Overview"
   ]
  },
  {
   "cell_type": "code",
   "execution_count": null,
   "metadata": {},
   "source": [
    "def display_schema(df, dataset_name):\n",
    "    \"\"\"\n",
    "    Display schema information for a DataFrame.\n",
    "    \n",
    "    Args:\n",
    "        df (pandas.DataFrame): DataFrame to display schema for\n",
    "        dataset_name (str): Name of the dataset\n",
    "    \"\"\"\n",
    "    print(f\"Schema for {dataset_name}:\")\n",
    "    \n",
    "    # Get data types\n",
    "    dtypes_df = pd.DataFrame({\n",
    "        'Column': df.columns,\n",
    "        'Data Type': [str(df[col].dtype) for col in df.columns]\n",
    "    })\n",
    "    \n",
    "    display(dtypes_df)"
   ]
  },
  {
   "cell_type": "code",
   "execution_count": null,
   "metadata": {},
   "source": [
    "# Display schema information\n",
    "display_schema(dau1_df, \"DAU1 Dataset\")"
   ]
  },
  {
   "cell_type": "code",
   "execution_count": null,
   "metadata": {},
   "source": [
    "# Sample data\n",
    "print(\"DAU1 Sample Data:\")\n",
    "display(dau1_df.head(3))\n",
    "\n",
    "print(\"\\nDJT6 Sample Data:\")\n",
    "display(djt6_df.head(3))"
   ]
  },
  {
   "cell_type": "markdown",
   "metadata": {},
   "source": [
    "## Planning Effectiveness Analysis"
   ]
  },
  {
   "cell_type": "code",
   "execution_count": null,
   "metadata": {},
   "source": [
    "def calculate_planning_metrics(df):\n",
    "    \"\"\"\n",
    "    Calculate planning effectiveness metrics for a dataset.\n",
    "    \n",
    "    Args:\n",
    "        df (pandas.DataFrame): DataFrame to calculate metrics for\n",
    "    \n",
    "    Returns:\n",
    "        dict: Dictionary of metrics\n",
    "    \"\"\"\n",
    "    metrics = {\n",
    "        'total_packages': len(df),\n",
    "        'planned_count': df['is_planned'].sum(),\n",
    "        'planned_pct': df['is_planned'].sum() / len(df) * 100,\n",
    "        'inducted_count': df['is_inducted'].sum(),\n",
    "        'inducted_pct': df['is_inducted'].sum() / len(df) * 100,\n",
    "        'inducted_as_planned_count': df['is_inducted_as_planned'].sum(),\n",
    "        'inducted_as_planned_pct': df['is_inducted_as_planned'].sum() / len(df) * 100,\n",
    "        'planned_not_inducted_count': df['is_planned_not_inducted'].sum(),\n",
    "        'planned_not_inducted_pct': df['is_planned_not_inducted'].sum() / len(df) * 100,\n",
    "        'inducted_not_planned_count': df['is_inducted_not_planned'].sum(),\n",
    "        'inducted_not_planned_pct': df['is_inducted_not_planned'].sum() / len(df) * 100,\n",
    "        'unique_originating_nodes': df['originating_node'].nunique(),\n",
    "    }\n",
    "    \n",
    "    return metrics"
   ]
  },
  {
   "cell_type": "code",
   "execution_count": null,
   "metadata": {},
   "source": [
    "# Calculate metrics for both stations\n",
    "dau1_metrics = calculate_planning_metrics(dau1_df)\n",
    "djt6_metrics = calculate_planning_metrics(djt6_df)\n",
    "\n",
    "# Create a comparison DataFrame\n",
    "metrics_df = pd.DataFrame({\n",
    "    'Metric': list(dau1_metrics.keys()),\n",
    "    'DAU1': list(dau1_metrics.values()),\n",
    "    'DJT6': list(djt6_metrics.values())\n",
    "})\n",
    "\n",
    "# Display metrics\n",
    "display(metrics_df)"
   ]
  },
  {
   "cell_type": "markdown",
   "metadata": {},
   "source": [
    "## Visualizing Planning Effectiveness"
   ]
  },
  {
   "cell_type": "code",
   "execution_count": null,
   "metadata": {},
   "source": [
    "def plot_planning_metrics(dau1_metrics, djt6_metrics):\n",
    "    \"\"\"\n",
    "    Create bar charts to compare planning metrics between stations.\n",
    "    \n",
    "    Args:\n",
    "        dau1_metrics (dict): Metrics for DAU1\n",
    "        djt6_metrics (dict): Metrics for DJT6\n",
    "    \"\"\"\n",
    "    # Set up the metrics to plot\n",
    "    metrics = ['planned_pct', 'inducted_pct', 'inducted_as_planned_pct', 'inducted_not_planned_pct']\n",
    "    labels = ['Planned', 'Inducted', 'Inducted as Planned', 'Inducted Not Planned']\n",
    "    \n",
    "    # Set up the figure\n",
    "    fig, ax = plt.subplots(figsize=(12, 8))\n",
    "    \n",
    "    # Set the width of the bars\n",
    "    width = 0.35\n",
    "    \n",
    "    # Set up the x positions\n",
    "    x = np.arange(len(metrics))\n",
    "    \n",
    "    # Create the bars\n",
    "    ax.bar(x - width/2, [dau1_metrics[m] for m in metrics], width, label='DAU1')\n",
    "    ax.bar(x + width/2, [djt6_metrics[m] for m in metrics], width, label='DJT6')\n",
    "    \n",
    "    # Add labels and title\n",
    "    ax.set_ylabel('Percentage')\n",
    "    ax.set_title('Planning Effectiveness Metrics by Station')\n",
    "    ax.set_xticks(x)\n",
    "    ax.set_xticklabels(labels)\n",
    "    ax.legend()\n",
    "    \n",
    "    # Add value labels to the bars\n",
    "    for i, v in enumerate([dau1_metrics[m] for m in metrics]):\n",
    "        ax.text(i - width/2, v + 1, f'{v:.1f}%', ha='center')\n",
    "        \n",
    "    for i, v in enumerate([djt6_metrics[m] for m in metrics]):\n",
    "        ax.text(i + width/2, v + 1, f'{v:.1f}%', ha='center')\n",
    "    \n",
    "    plt.show()"
   ]
  },
  {
   "cell_type": "code",
   "execution_count": null,
   "metadata": {},
   "source": [
    "# Plot planning metrics\n",
    "plot_planning_metrics(dau1_metrics, djt6_metrics)"
   ]
  },
  {
   "cell_type": "markdown",
   "metadata": {},
   "source": [
    "## Originating Node Analysis"
   ]
  },
  {
   "cell_type": "code",
   "execution_count": null,
   "metadata": {},
   "source": [
    "def analyze_originating_nodes(df, station_name):\n",
    "    \"\"\"\n",
    "    Analyze distribution of packages by originating node.\n",
    "    \n",
    "    Args:\n",
    "        df (pandas.DataFrame): DataFrame to analyze\n",
    "        station_name (str): Name of the station\n",
    "    \"\"\"\n",
    "    # Count packages by originating node and FC/SC status\n",
    "    orig_counts = df.groupby(['originating_node', 'originating_fc_or_sc']).size().reset_index()\n",
    "    orig_counts.columns = ['Originating Node', 'Node Type', 'Package Count']\n",
    "    orig_counts = orig_counts.sort_values('Package Count', ascending=False)\n",
    "    \n",
    "    # Add percentage column\n",
    "    orig_counts['Percentage'] = orig_counts['Package Count'] / orig_counts['Package Count'].sum() * 100\n",
    "    \n",
    "    print(f\"Package distribution by originating node for {station_name}:\")\n",
    "    display(orig_counts)\n",
    "    \n",
    "    # Plot distribution\n",
    "    plt.figure(figsize=(12, 8))\n",
    "    plt.title(f\"Package Distribution by Originating Node - {station_name}\")\n",
    "    sns.barplot(x='Originating Node', y='Package Count', hue='Node Type', data=orig_counts)\n",
    "    plt.xticks(rotation=45, ha='right')\n",
    "    plt.tight_layout()\n",
    "    plt.show()\n",
    "    \n",
    "    # Calculate planning effectiveness by originating node\n",
    "    node_metrics = df.groupby('originating_node').agg({\n",
    "        'is_planned': 'mean',\n",
    "        'is_inducted': 'mean',\n",
    "        'is_inducted_as_planned': 'mean',\n",
    "        'is_inducted_not_planned': 'mean',\n",
    "        'tracking_id': 'count'\n",
    "    }).reset_index()\n",
    "    \n",
    "    node_metrics.columns = ['Originating Node', 'Planned Rate', 'Inducted Rate', \n",
    "                           'Inducted as Planned Rate', 'Inducted Not Planned Rate', 'Count']\n",
    "    \n",
    "    # Convert rates to percentages\n",
    "    for col in ['Planned Rate', 'Inducted Rate', 'Inducted as Planned Rate', 'Inducted Not Planned Rate']:\n",
    "        node_metrics[col] = node_metrics[col] * 100\n",
    "    \n",
    "    node_metrics = node_metrics.sort_values('Count', ascending=False)\n",
    "    \n",
    "    print(f\"\\nPlanning effectiveness by originating node for {station_name}:\")\n",
    "    display(node_metrics)\n",
    "    \n",
    "    return orig_counts, node_metrics"
   ]
  },
  {
   "cell_type": "code",
   "execution_count": null,
   "metadata": {},
   "source": [
    "# Analyze originating nodes for DAU1\n",
    "dau1_orig, dau1_node_metrics = analyze_originating_nodes(dau1_df, \"DAU1\")"
   ]
  },
  {
   "cell_type": "code",
   "execution_count": null,
   "metadata": {},
   "source": [
    "# Analyze originating nodes for DJT6\n",
    "djt6_orig, djt6_node_metrics = analyze_originating_nodes(djt6_df, \"DJT6\")"
   ]
  },
  {
   "cell_type": "markdown",
   "metadata": {},
   "source": [
    "## Timing Analysis"
   ]
  },
  {
   "cell_type": "code",
   "execution_count": null,
   "metadata": {},
   "source": [
    "def analyze_timing(df, station_name):\n",
    "    \"\"\"\n",
    "    Analyze timing patterns in the container planning data.\n",
    "    \n",
    "    Args:\n",
    "        df (pandas.DataFrame): DataFrame to analyze\n",
    "        station_name (str): Name of the station\n",
    "    \"\"\"\n",
    "    # Calculate time differences in minutes\n",
    "    timing_df = df.copy()\n",
    "    \n",
    "    # Planning to induction time\n",
    "    timing_df['plan_to_induct_mins'] = (timing_df['induct_datetime_local'] - \n",
    "                                       timing_df['dcap_run_time_local']).dt.total_seconds() / 60\n",
    "    \n",
    "    # Induction to stow time\n",
    "    timing_df['induct_to_stow_mins'] = (timing_df['stow_datetime'] - \n",
    "                                      timing_df['induct_datetime_local']).dt.total_seconds() / 60\n",
    "    \n",
    "    # Calculate basic statistics\n",
    "    timing_stats = timing_df[['plan_to_induct_mins', 'induct_to_stow_mins']].describe()\n",
    "    \n",
    "    print(f\"Timing statistics for {station_name} (in minutes):\")\n",
    "    display(timing_stats)\n",
    "    \n",
    "    # Plot histograms\n",
    "    plt.figure(figsize=(16, 6))\n",
    "    \n",
    "    plt.subplot(1, 2, 1)\n",
    "    plt.title(f\"Planning to Induction Time - {station_name}\")\n",
    "    sns.histplot(timing_df['plan_to_induct_mins'], kde=True)\n",
    "    plt.xlabel('Minutes')\n",
    "    \n",
    "    plt.subplot(1, 2, 2)\n",
    "    plt.title(f\"Induction to Stow Time - {station_name}\")\n",
    "    sns.histplot(timing_df['induct_to_stow_mins'], kde=True)\n",
    "    plt.xlabel('Minutes')\n",
    "    \n",
    "    plt.tight_layout()\n",
    "    plt.show()\n",
    "    \n",
    "    return timing_df"
   ]
  },
  {
   "cell_type": "code",
   "execution_count": null,
   "metadata": {},
   "source": [
    "# Analyze timing for DAU1\n",
    "dau1_timing = analyze_timing(dau1_df, \"DAU1\")"
   ]
  },
  {
   "cell_type": "code",
   "execution_count": null,
   "metadata": {},
   "source": [
    "# Analyze timing for DJT6\n",
    "djt6_timing = analyze_timing(djt6_df, \"DJT6\")"
   ]
  },
  {
   "cell_type": "markdown",
   "metadata": {},
   "source": [
    "## Prepare for SQL Integration"
   ]
  },
  {
   "cell_type": "code",
   "execution_count": null,
   "metadata": {},
   "source": [
    "# Combine the two datasets\n",
    "combined_df = pd.concat([dau1_df, djt6_df], ignore_index=True)"
   ]
  },
  {
   "cell_type": "code",
   "execution_count": null,
   "metadata": {},
   "source": [
    "# Sample of combined data\n",
    "print(f\"Combined dataset shape: {combined_df.shape}\")\n",
    "display(combined_df.head(3))"
   ]
  },
  {
   "cell_type": "code",
   "execution_count": null,
   "metadata": {},
   "source": [
    "# Extract key fields for SQL integration\n",
    "sql_fields = combined_df[[\n",
    "    'tracking_id', 'shipment_id', 'station', 'date',\n",
    "    'originating_node', 'originating_fc_or_sc', 'container_plan_id',\n",
    "    'is_planned', 'is_inducted', 'is_inducted_as_planned',\n",
    "    'dcap_run_time_local', 'induct_datetime_local', 'stow_datetime',\n",
    "    'slam_datetime_local', 'actual_ds_arrival_datetime_local',\n",
    "    'promised_arrival_datetime', 'condition', 'route_id', 'stop_number'\n",
    "]]\n",
    "\n",
    "# Display sample\n",
    "display(sql_fields.head())"
   ]
  },
  {
   "cell_type": "markdown",
   "metadata": {},
   "source": [
    "## Save Sample Data for SQL Integration"
   ]
  },
  {
   "cell_type": "code",
   "execution_count": null,
   "metadata": {},
   "source": [
    "# Save to CSV for SQL import\n",
    "sql_fields.to_csv('/home/admsia/shipment_timeline/container_planning/analysis/container_planning_sample.csv', index=False)\n",
    "print(\"Saved sample data to container_planning_sample.csv\")"
   ]
  },
  {
   "cell_type": "markdown",
   "metadata": {},
   "source": [
    "## Summary of Findings"
   ]
  },
  {
   "cell_type": "markdown",
   "metadata": {},
   "source": [
    "### Key Observations\n",
    "\n",
    "1. **Planning Effectiveness:**\n",
    "   - DAU1 shows nearly perfect planning (100% planned, 95% inducted as planned)\n",
    "   - DJT6 has more planning challenges (61% planned, 56% inducted as planned)\n",
    "\n",
    "2. **Originating Node Impact:**\n",
    "   - DAU1 has fewer originating nodes (6) compared to DJT6 (13)\n",
    "   - Originating node appears to correlate with planning effectiveness\n",
    "\n",
    "3. **Timing Patterns:**\n",
    "   - DAU1 shows more consistent timing between planning and execution\n",
    "   - DJT6 shows higher variance in process timing\n",
    "\n",
    "4. **Process Stability:**\n",
    "   - DAU1 exhibits more stable operational patterns\n",
    "   - DJT6 shows more unplanned inductions and process variability\n",
    "\n",
    "These insights can be further enhanced through integration with the shipment timeline data to get a complete view of the package journey."
   ]
  }
 ],
 "metadata": {
  "kernelspec": {
   "display_name": "Python 3",
   "language": "python",
   "name": "python3"
  },
  "language_info": {
   "codemirror_mode": {
    "name": "ipython",
    "version": 3
   },
   "file_extension": ".py",
   "mimetype": "text/x-python",
   "name": "python",
   "nbconvert_exporter": "python",
   "pygments_lexer": "ipython3",
   "version": "3.12.0"
  }
 },
 "nbformat": 4,
 "nbformat_minor": 4
}